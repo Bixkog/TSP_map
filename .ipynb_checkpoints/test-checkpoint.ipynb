{
 "cells": [
  {
   "cell_type": "code",
   "execution_count": 1,
   "metadata": {},
   "outputs": [],
   "source": [
    "import numpy as np\n",
    "import matplotlib.pyplot as plt\n",
    "import time\n",
    "\n",
    "%matplotlib inline"
   ]
  },
  {
   "cell_type": "code",
   "execution_count": 2,
   "metadata": {},
   "outputs": [],
   "source": [
    "def tsp_objective_function(p):\n",
    "    s = 0.0\n",
    "    for i in range(n):\n",
    "        s += A[p[i-1], p[i]]\n",
    "    return s"
   ]
  },
  {
   "cell_type": "code",
   "execution_count": 14,
   "metadata": {},
   "outputs": [],
   "source": [
    "def parse_tsp(filename):\n",
    "    data = \"\"\n",
    "    with open(filename) as fh:\n",
    "        data = fh.read().split(\"\\n\")\n",
    "    n = int(data[3].split()[1])\n",
    "    e_type = data[4].split()[1]\n",
    "    e_format = \"\"\n",
    "    if e_type == \"EXPLICIT\":\n",
    "        e_format = data[5].split()[1]\n",
    "    \n",
    "    A = np.empty((n, n), dtype=int)\n",
    "    if e_type == \"EXPLICIT\" and e_format == \"UPPER_ROW\":\n",
    "        for i in range(n-1):\n",
    "            edges = map(int, data[i+8].split())\n",
    "            for j, v in enumerate(edges):\n",
    "                A[i, i + j + 1] = v\n",
    "                A[i + j + 1, i] = v\n",
    "        for i in range(n):\n",
    "            A[i, i] = 0\n",
    "\n",
    "    if e_type == \"EXPLICIT\" and e_format == \"FULL_MATRIX\":\n",
    "        for i in range(n):\n",
    "            edges = map(int, data[i+8].split())\n",
    "            for j, v in enumerate(edges):\n",
    "                A[i, j] = v\n",
    "    if e_type == \"EUC_2D\":\n",
    "        coords = np.empty((n,2))\n",
    "        for i in range(n):\n",
    "            coord = list(map(int, data[i+6].split()))\n",
    "            coords[coord[0]-1, :] = np.array([coord[1:]])\n",
    "        for i in range(n):\n",
    "            for j in range(n):\n",
    "                A[i, j] = np.sqrt(((coords[i, :] - coords[j, :])**2).sum())\n",
    "    return A, n"
   ]
  },
  {
   "cell_type": "code",
   "execution_count": 76,
   "metadata": {},
   "outputs": [
    {
     "data": {
      "text/plain": [
       "array([ 92, 132, 138, 121,  85,  36,  98,  53,  75, 119,  66, 145, 131,\n",
       "        45,  61,  54,  24,  72, 142,   3,   8,  43,  44, 112, 144,  60,\n",
       "        22,  52, 109, 148, 136, 126,  87, 110,  56,  50, 118,  42,  12,\n",
       "       116, 103,  67,  93, 104,  77, 122,  63,   0, 128, 125,   9,  19,\n",
       "        91,  26,  81, 105,   6,  38,  37,  71,  89, 106, 127,  78, 141,\n",
       "        17,  35,  34, 143,  23, 135,  59,  10,  27, 111, 130,  69, 124,\n",
       "        47,  73,  15,  94, 140,  20,   5,  88, 100, 101,  84,  51,  18,\n",
       "       149,  74,  96,  95, 139,  33,   4, 120, 134,  80, 113, 146,  97,\n",
       "        31,  55, 133,   1, 137,  62,  70,  99,  64,  48, 114,  40,  79,\n",
       "       115, 107,  46,  90,  58,  11, 129,  57, 123,  68,   2,  25,  83,\n",
       "        82,  13,  14,   7,  65,  39,  21, 102,  32, 108,  76, 117,  41,\n",
       "        86,  16,  28,  30,  49, 147,  29])"
      ]
     },
     "execution_count": 76,
     "metadata": {},
     "output_type": "execute_result"
    }
   ],
   "source": [
    "from itertools import combinations, permutations\n",
    "\n",
    "# only for symmetrical tsp\n",
    "\n",
    "def improvePath(ind):\n",
    "    g = -np.inf\n",
    "    best_i = 0\n",
    "    for i in range(ind.size-1):\n",
    "        g_ = A[ind[i], ind[i+1]] - A[ind[i], ind[-1]]\n",
    "        if g_ > g:\n",
    "            g = g_\n",
    "            best_i = i\n",
    "    if g <= 0: \n",
    "        return None\n",
    "    return np.hstack([ind[:best_i], np.flipud(ind[best_i:])])\n",
    "\n",
    "def intensify(ind):\n",
    "    improvement = True\n",
    "    ind_score = tsp_objective_function(ind)\n",
    "    while improvement:\n",
    "        improvement = False\n",
    "        for i in range(ind.size):\n",
    "            res = improvePath(ind)\n",
    "            if res is not None:\n",
    "                res_score = tsp_objective_function(res)\n",
    "                if res_score < ind_score:\n",
    "                    ind = res\n",
    "                    ind_score = res_score\n",
    "                    improvement = True\n",
    "                    break\n",
    "            ind = np.roll(ind, -1)\n",
    "    return ind\n",
    "        \n",
    "        \n",
    "intensify(np.random.permutation(A.shape[0]))"
   ]
  },
  {
   "cell_type": "code",
   "execution_count": 43,
   "metadata": {},
   "outputs": [
    {
     "data": {
      "text/plain": [
       "array([21, 10,  3,  9, 20,  0, 23, 26,  7, 27,  5, 11,  8,  4, 25, 28,  2,\n",
       "        1, 19, 12, 15, 22,  6, 24, 18, 14, 17, 16, 13])"
      ]
     },
     "execution_count": 43,
     "metadata": {},
     "output_type": "execute_result"
    }
   ],
   "source": [
    "A, n = parse_tsp(\"bays29.tsp\")\n",
    "\n",
    "iterative_min(np.random.permutation(A.shape[0]), 2)\n",
    "    "
   ]
  },
  {
   "cell_type": "code",
   "execution_count": 44,
   "metadata": {},
   "outputs": [
    {
     "data": {
      "text/plain": [
       "array([ 28,  15, 109, 103, 138, 144,  61,  41, 123,  98,  13, 143,  66,\n",
       "        22,  90,  64, 111, 149, 108, 115,  80, 134,  23,  17,  33,  57,\n",
       "        49,  88,   9, 106,   1,  86, 135,  37,  10, 124, 121, 126,  63,\n",
       "        70,  47, 130,  45,   8, 105,  18,  31, 120, 107,  74,  99,  59,\n",
       "        71, 137, 142,  26, 104, 122, 146, 148, 128,  83,  19,   2,  53,\n",
       "        79,  35,  52,  95,  89,   7,  56, 132,  48,  11,  43,  21,  65,\n",
       "        14,  54, 147,  38,  51,  39,  77, 114,  85,  32,  36,  29,  40,\n",
       "        25, 112,  75, 131,  92,  91, 116,  81,  87, 127,  69, 141,  68,\n",
       "       113,  44,  82,  60, 110,  97,   4,  67,   5,  34,  16,  24, 140,\n",
       "       117, 133,  30, 100, 145,  58,  76,  20, 118,  84,   6, 129,  50,\n",
       "        93,  46,  72, 125, 102,  55,  62,  94,   0,   3,  96,  42,  73,\n",
       "        27,  78, 119, 139,  12, 136, 101])"
      ]
     },
     "execution_count": 44,
     "metadata": {},
     "output_type": "execute_result"
    }
   ],
   "source": [
    "A, n = parse_tsp(\"kroA150.tsp\")\n",
    "\n",
    "iterative_min(np.random.permutation(A.shape[0]), 2)\n",
    "    "
   ]
  },
  {
   "cell_type": "code",
   "execution_count": 72,
   "metadata": {},
   "outputs": [],
   "source": [
    "def double_bridge(ind):\n",
    "    s = np.sort(np.random.choice(ind.size, 3, replace=False))\n",
    "    return np.hstack([ind[:s[0]], ind[s[2]:], ind[s[1]:s[2]], ind[s[0]:s[1]]])\n",
    "\n",
    "def perturbate(ind, K):\n",
    "    ind_ = ind.copy()\n",
    "    for i in range(K):\n",
    "        ind_ = double_bridge(ind_)\n",
    "    return ind_"
   ]
  },
  {
   "cell_type": "code",
   "execution_count": 102,
   "metadata": {},
   "outputs": [],
   "source": [
    "\n",
    "\n",
    "def CLK(I):\n",
    "    s = np.random.permutation(A.shape[0])\n",
    "    s_res = tsp_objective_function(s)\n",
    "    L = set([tuple(s)])\n",
    "    E = set()\n",
    "    i = 0\n",
    "    while i < I:\n",
    "        p = perturbate(s, 1)\n",
    "        p = intensify(p)\n",
    "        p_res = tsp_objective_function(p)\n",
    "        i += 1\n",
    "        if p_res < s_res:\n",
    "            L.add(tuple(p))\n",
    "            E.add((tuple(s), tuple(p)))\n",
    "            s = p\n",
    "            s_res = p_res\n",
    "            i = 0\n",
    "    return s_res, L, E"
   ]
  },
  {
   "cell_type": "code",
   "execution_count": 105,
   "metadata": {},
   "outputs": [
    {
     "ename": "TypeError",
     "evalue": "unsupported operand type(s) for |: 'dict' and 'set'",
     "output_type": "error",
     "traceback": [
      "\u001b[0;31m---------------------------------------------------------------------------\u001b[0m",
      "\u001b[0;31mTypeError\u001b[0m                                 Traceback (most recent call last)",
      "\u001b[0;32m<ipython-input-105-874d7abbbe40>\u001b[0m in \u001b[0;36m<module>\u001b[0;34m()\u001b[0m\n\u001b[1;32m     14\u001b[0m \u001b[0;32mfor\u001b[0m \u001b[0ms_res\u001b[0m\u001b[0;34m,\u001b[0m \u001b[0mL_\u001b[0m\u001b[0;34m,\u001b[0m \u001b[0mE_\u001b[0m \u001b[0;32min\u001b[0m \u001b[0mpool\u001b[0m\u001b[0;34m.\u001b[0m\u001b[0mmap\u001b[0m\u001b[0;34m(\u001b[0m\u001b[0mCLK\u001b[0m\u001b[0;34m,\u001b[0m \u001b[0;34m[\u001b[0m\u001b[0mI\u001b[0m\u001b[0;34m]\u001b[0m\u001b[0;34m*\u001b[0m\u001b[0mT\u001b[0m\u001b[0;34m)\u001b[0m\u001b[0;34m:\u001b[0m\u001b[0;34m\u001b[0m\u001b[0m\n\u001b[1;32m     15\u001b[0m     \u001b[0mhist\u001b[0m\u001b[0;34m.\u001b[0m\u001b[0mappend\u001b[0m\u001b[0;34m(\u001b[0m\u001b[0ms_res\u001b[0m\u001b[0;34m)\u001b[0m\u001b[0;34m\u001b[0m\u001b[0m\n\u001b[0;32m---> 16\u001b[0;31m     \u001b[0mL\u001b[0m \u001b[0;34m=\u001b[0m \u001b[0mL\u001b[0m \u001b[0;34m|\u001b[0m \u001b[0mL_\u001b[0m\u001b[0;34m\u001b[0m\u001b[0m\n\u001b[0m\u001b[1;32m     17\u001b[0m     \u001b[0mE\u001b[0m \u001b[0;34m=\u001b[0m \u001b[0mE\u001b[0m \u001b[0;34m|\u001b[0m \u001b[0mE_\u001b[0m\u001b[0;34m\u001b[0m\u001b[0m\n\u001b[1;32m     18\u001b[0m \u001b[0;34m\u001b[0m\u001b[0m\n",
      "\u001b[0;31mTypeError\u001b[0m: unsupported operand type(s) for |: 'dict' and 'set'"
     ]
    }
   ],
   "source": [
    "from multiprocessing import Pool\n",
    "import time\n",
    "\n",
    "A, n = parse_tsp(\"bays29.tsp\")\n",
    "T = 1000\n",
    "I = 10000\n",
    "hist = []\n",
    "L = set()\n",
    "E = set()\n",
    "\n",
    "\n",
    "pool = Pool()\n",
    "begin = time.clock()\n",
    "for s_res, L_, E_ in pool.map(CLK, [I]*T):\n",
    "    hist.append(s_res)\n",
    "    L = L | L_\n",
    "    E = E | E_\n",
    "    \n",
    "print((time.clock() - begin) * 100.0 / 60.0)\n",
    "plt.figure(figsize=(12,4))\n",
    "plt.hist(hist, bins=100)\n",
    "plt.show()"
   ]
  },
  {
   "cell_type": "code",
   "execution_count": null,
   "metadata": {},
   "outputs": [],
   "source": []
  }
 ],
 "metadata": {
  "kernelspec": {
   "display_name": "Python 3",
   "language": "python",
   "name": "python3"
  },
  "language_info": {
   "codemirror_mode": {
    "name": "ipython",
    "version": 3
   },
   "file_extension": ".py",
   "mimetype": "text/x-python",
   "name": "python",
   "nbconvert_exporter": "python",
   "pygments_lexer": "ipython3",
   "version": "3.5.2"
  }
 },
 "nbformat": 4,
 "nbformat_minor": 2
}
