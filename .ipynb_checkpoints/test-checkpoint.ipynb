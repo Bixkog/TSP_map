{
 "cells": [
  {
   "cell_type": "code",
   "execution_count": 1,
   "metadata": {},
   "outputs": [],
   "source": [
    "import numpy as np\n",
    "import matplotlib.pyplot as plt\n",
    "import time\n",
    "\n",
    "%matplotlib inline"
   ]
  },
  {
   "cell_type": "code",
   "execution_count": 2,
   "metadata": {},
   "outputs": [],
   "source": [
    "def tsp_objective_function(p):\n",
    "    s = 0.0\n",
    "    for i in range(n):\n",
    "        s += A[p[i-1], p[i]]\n",
    "    return s"
   ]
  },
  {
   "cell_type": "code",
   "execution_count": 3,
   "metadata": {},
   "outputs": [],
   "source": [
    "def parse_tsp(filename):\n",
    "    data = \"\"\n",
    "    with open(filename) as fh:\n",
    "        data = fh.read().split(\"\\n\")\n",
    "    n = int(data[3].split()[1])\n",
    "    e_type = data[4].split()[1]\n",
    "    e_format = \"\"\n",
    "    if e_type == \"EXPLICIT\":\n",
    "        e_format = data[5].split()[1]\n",
    "    \n",
    "    A = np.empty((n, n), dtype=int)\n",
    "    if e_type == \"EXPLICIT\" and e_format == \"UPPER_ROW\":\n",
    "        for i in range(n-1):\n",
    "            edges = map(int, data[i+8].split())\n",
    "            for j, v in enumerate(edges):\n",
    "                A[i, i + j + 1] = v\n",
    "                A[i + j + 1, i] = v\n",
    "        for i in range(n):\n",
    "            A[i, i] = 0\n",
    "\n",
    "    if e_type == \"EXPLICIT\" and e_format == \"FULL_MATRIX\":\n",
    "        for i in range(n):\n",
    "            edges = map(int, data[i+8].split())\n",
    "            for j, v in enumerate(edges):\n",
    "                A[i, j] = v\n",
    "    if e_type == \"EUC_2D\":\n",
    "        coords = np.empty((n,2))\n",
    "        for i in range(n):\n",
    "            coord = list(map(int, data[i+6].split()))\n",
    "            coords[coord[0]-1, :] = np.array([coord[1:]])\n",
    "        for i in range(n):\n",
    "            for j in range(n):\n",
    "                A[i, j] = np.sqrt(((coords[i, :] - coords[j, :])**2).sum())\n",
    "    return A, n"
   ]
  },
  {
   "cell_type": "code",
   "execution_count": 8,
   "metadata": {},
   "outputs": [],
   "source": [
    "from itertools import combinations, permutations\n",
    "\n",
    "# only for symmetrical tsp\n",
    "\n",
    "def improvePath(ind):\n",
    "    g = -np.inf\n",
    "    best_i = 0\n",
    "    for i in range(ind.size-1):\n",
    "        g_ = A[ind[i], ind[i+1]] - A[ind[i], ind[-1]]\n",
    "        if g_ > g:\n",
    "            g = g_\n",
    "            best_i = i\n",
    "    if g <= 0: \n",
    "        return None\n",
    "    return np.hstack([ind[:best_i], np.flipud(ind[best_i:])])\n",
    "\n",
    "def intensify(ind):\n",
    "    improvement = True\n",
    "    ind_score = tsp_objective_function(ind)\n",
    "    while improvement:\n",
    "        improvement = False\n",
    "        for i in range(ind.size):\n",
    "            res = improvePath(ind)\n",
    "            if res is not None:\n",
    "                res_score = tsp_objective_function(res)\n",
    "                if res_score < ind_score:\n",
    "                    ind = res\n",
    "                    ind_score = res_score\n",
    "                    improvement = True\n",
    "                    break\n",
    "            ind = np.roll(ind, -1)\n",
    "    return ind"
   ]
  },
  {
   "cell_type": "code",
   "execution_count": 9,
   "metadata": {},
   "outputs": [],
   "source": [
    "def double_bridge(ind):\n",
    "    s = np.sort(np.random.choice(ind.size, 3, replace=False))\n",
    "    return np.hstack([ind[:s[0]], ind[s[2]:], ind[s[1]:s[2]], ind[s[0]:s[1]]])\n",
    "\n",
    "def perturbate(ind, K):\n",
    "    ind_ = ind.copy()\n",
    "    for i in range(K):\n",
    "        ind_ = double_bridge(ind_)\n",
    "    return ind_"
   ]
  },
  {
   "cell_type": "code",
   "execution_count": 10,
   "metadata": {},
   "outputs": [],
   "source": [
    "def CLK(I):\n",
    "    s = np.random.permutation(A.shape[0])\n",
    "    s_res = tsp_objective_function(s)\n",
    "    L = set([tuple(s)])\n",
    "    E = set()\n",
    "    i = 0\n",
    "    while i < I:\n",
    "        p = perturbate(s, 1)\n",
    "        p = intensify(p)\n",
    "        p_res = tsp_objective_function(p)\n",
    "        i += 1\n",
    "        if p_res < s_res:\n",
    "            L.add(tuple(p))\n",
    "            E.add((tuple(s), tuple(p)))\n",
    "            s = p\n",
    "            s_res = p_res\n",
    "            i = 0\n",
    "    return s_res, L, E"
   ]
  },
  {
   "cell_type": "code",
   "execution_count": 11,
   "metadata": {},
   "outputs": [
    {
     "name": "stdout",
     "output_type": "stream",
     "text": [
      "22.939661666666666\n"
     ]
    },
    {
     "data": {
      "image/png": "[encoded data removed]",
      "text/plain": [
       "<Figure size 864x288 with 1 Axes>"
      ]
     },
     "metadata": {},
     "output_type": "display_data"
    }
   ],
   "source": [
    "from multiprocessing import Pool\n",
    "import time\n",
    "\n",
    "A, n = parse_tsp(\"bays29.tsp\")\n",
    "T = 1000\n",
    "I = 10000\n",
    "hist = []\n",
    "L = set()\n",
    "E = set()\n",
    "\n",
    "\n",
    "pool = Pool()\n",
    "begin = time.time()\n",
    "for s_res, L_, E_ in pool.map(CLK, [I]*T):\n",
    "    hist.append(s_res)\n",
    "    L = L | L_\n",
    "    E = E | E_\n",
    "    \n",
    "print((time.time() - begin) * 100.0 / 60.0)\n",
    "plt.figure(figsize=(12,4))\n",
    "plt.hist(hist, bins=100)\n",
    "plt.show()"
   ]
  },
  {
   "cell_type": "code",
   "execution_count": 16,
   "metadata": {},
   "outputs": [],
   "source": [
    "import pickle\n",
    "\n",
    "def save_graph(V, E, file_name):\n",
    "    with open(file_name, \"wb\") as fh:\n",
    "        pickle.dump((V, E), fh)\n",
    "    \n",
    "def load_graph(file_name):\n",
    "    with open(file_name, \"rb\") as fh:\n",
    "        (V, E) = pickle.load(fh)\n",
    "        return V, E"
   ]
  },
  {
   "cell_type": "code",
   "execution_count": 13,
   "metadata": {},
   "outputs": [
    {
     "name": "stdout",
     "output_type": "stream",
     "text": [
      "IGRAPH U--- 4226 4072 -- \n"
     ]
    }
   ],
   "source": [
    "import igraph\n",
    "\n",
    "def print_graph(V, E, g_min):\n",
    "    V_ = { s : (i, tsp_objective_function(s)) for i, s in enumerate(V)}\n",
    "    E_ = [(V_[s1][0], V_[s2][0]) for s1, s2 in E]\n",
    "    g = igraph.Graph()\n",
    "    g.add_vertices(len(V))\n",
    "    g.add_edges(E_)\n",
    "    layout = g.layout_drl()\n",
    "    igraph.summary(g)\n",
    "    igraph.plot(g, layout=layout)._repr_svg_()\n",
    "    \n",
    "print_graph(L, E, 0)"
   ]
  },
  {
   "cell_type": "code",
   "execution_count": 17,
   "metadata": {},
   "outputs": [],
   "source": [
    "save_graph(L, E, \"bayes29.g\")"
   ]
  },
  {
   "cell_type": "code",
   "execution_count": null,
   "metadata": {},
   "outputs": [],
   "source": []
  }
 ],
 "metadata": {
  "kernelspec": {
   "display_name": "Python 3",
   "language": "python",
   "name": "python3"
  },
  "language_info": {
   "codemirror_mode": {
    "name": "ipython",
    "version": 3
   },
   "file_extension": ".py",
   "mimetype": "text/x-python",
   "name": "python",
   "nbconvert_exporter": "python",
   "pygments_lexer": "ipython3",
   "version": "3.5.2"
  }
 },
 "nbformat": 4,
 "nbformat_minor": 2
}
