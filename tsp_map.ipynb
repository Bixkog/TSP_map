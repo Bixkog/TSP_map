{
 "cells": [
  {
   "cell_type": "code",
   "execution_count": 5,
   "metadata": {},
   "outputs": [],
   "source": [
    "import numpy as np\n",
    "import matplotlib.pyplot as plt\n",
    "import time\n",
    "\n",
    "%matplotlib inline"
   ]
  },
  {
   "cell_type": "code",
   "execution_count": 77,
   "metadata": {},
   "outputs": [],
   "source": [
    "def tsp_objective_function(p):\n",
    "    s = 0.0\n",
    "    for i in range(n):\n",
    "        s += A[p[i-1], p[i]]\n",
    "    return s"
   ]
  },
  {
   "cell_type": "code",
   "execution_count": 78,
   "metadata": {},
   "outputs": [],
   "source": [
    "def parse_tsp(filename):\n",
    "    data = \"\"\n",
    "    with open(filename) as fh:\n",
    "        data = fh.read().split(\"\\n\")\n",
    "    n = int(data[3].split()[1])\n",
    "    e_type = data[4].split()[1]\n",
    "    e_format = \"\"\n",
    "    if e_type == \"EXPLICIT\":\n",
    "        e_format = data[5].split()[1]\n",
    "    \n",
    "    A = np.empty((n, n), dtype=int)\n",
    "    if e_type == \"EXPLICIT\" and e_format == \"UPPER_ROW\":\n",
    "        for i in range(n-1):\n",
    "            edges = map(int, data[i+8].split())\n",
    "            for j, v in enumerate(edges):\n",
    "                A[i, i + j + 1] = v\n",
    "                A[i + j + 1, i] = v\n",
    "        for i in range(n):\n",
    "            A[i, i] = 0\n",
    "\n",
    "    if e_type == \"EXPLICIT\" and e_format == \"FULL_MATRIX\":\n",
    "        for i in range(n):\n",
    "            edges = map(int, data[i+8].split())\n",
    "            for j, v in enumerate(edges):\n",
    "                A[i, j] = v\n",
    "    if e_type == \"EUC_2D\":\n",
    "        coords = np.empty((n,2))\n",
    "        for i in range(n):\n",
    "            coord = list(map(int, data[i+6].split()))\n",
    "            coords[coord[0]-1, :] = np.array([coord[1:]])\n",
    "        for i in range(n):\n",
    "            for j in range(n):\n",
    "                A[i, j] = np.sqrt(((coords[i, :] - coords[j, :])**2).sum())\n",
    "    return A, n"
   ]
  },
  {
   "cell_type": "code",
   "execution_count": 79,
   "metadata": {},
   "outputs": [],
   "source": [
    "def random_subproblem(A, n, n_):\n",
    "    picked_v = np.sort(np.random.choice(range(n), n_, replace=False))\n",
    "    return A[np.array(picked_v)[:,None], np.array(picked_v)], n_\n"
   ]
  },
  {
   "cell_type": "code",
   "execution_count": 80,
   "metadata": {},
   "outputs": [],
   "source": [
    "from itertools import combinations, permutations\n",
    "\n",
    "# only for symmetrical tsp\n",
    "\n",
    "def improvePath(ind):\n",
    "    g = -np.inf\n",
    "    best_i = 0\n",
    "    for i in range(ind.size-1):\n",
    "        g_ = A[ind[i], ind[i+1]] - A[ind[i], ind[-1]]\n",
    "        if g_ > g:\n",
    "            g = g_\n",
    "            best_i = i\n",
    "    if g <= 0: \n",
    "        return None\n",
    "    return np.hstack([ind[:best_i], np.flipud(ind[best_i:])])\n",
    "\n",
    "def intensify(ind):\n",
    "    improvement = True\n",
    "    ind_score = tsp_objective_function(ind)\n",
    "    while improvement:\n",
    "        improvement = False\n",
    "        for i in range(ind.size):\n",
    "            res = improvePath(ind)\n",
    "            if res is not None:\n",
    "                res_score = tsp_objective_function(res)\n",
    "                if res_score < ind_score:\n",
    "                    ind = res\n",
    "                    ind_score = res_score\n",
    "                    improvement = True\n",
    "                    break\n",
    "            ind = np.roll(ind, -1)\n",
    "    return ind"
   ]
  },
  {
   "cell_type": "code",
   "execution_count": 81,
   "metadata": {},
   "outputs": [],
   "source": [
    "def double_bridge(ind):\n",
    "    s = np.sort(np.random.choice(ind.size, 3, replace=False))\n",
    "    return np.hstack([ind[:s[0]], ind[s[2]:], ind[s[1]:s[2]], ind[s[0]:s[1]]])\n",
    "\n",
    "def perturbate(ind, K):\n",
    "    ind_ = ind.copy()\n",
    "    for i in range(K):\n",
    "        ind_ = double_bridge(ind_)\n",
    "    return ind_\n",
    "\n",
    "def norm(ind):\n",
    "    i = np.where(ind == 1)[0][0]\n",
    "    return np.roll(ind, -i)\n"
   ]
  },
  {
   "cell_type": "code",
   "execution_count": 82,
   "metadata": {},
   "outputs": [],
   "source": [
    "def CLK(I):\n",
    "    s = np.random.permutation(A.shape[0])\n",
    "    s_res = tsp_objective_function(s)\n",
    "    L = set([tuple(s)])\n",
    "    E = set()\n",
    "    i = 0\n",
    "    while i < I:\n",
    "        p = perturbate(s, 1)\n",
    "        p = intensify(p)\n",
    "        p_res = tsp_objective_function(p)\n",
    "        i += 1\n",
    "        if p_res < s_res:\n",
    "            L.add(tuple(norm(p)))\n",
    "            E.add((tuple(norm(s)), tuple(norm(p))))\n",
    "            s = p\n",
    "            s_res = p_res\n",
    "            i = 0\n",
    "    return s_res, L, E"
   ]
  },
  {
   "cell_type": "code",
   "execution_count": 90,
   "metadata": {},
   "outputs": [],
   "source": [
    "import pickle\n",
    "\n",
    "def save_graph(V, E, A, n, file_name):\n",
    "    with open(file_name, \"wb\") as fh:\n",
    "        pickle.dump((V, E, A, n), fh)\n",
    "    \n",
    "def load_graph(file_name):\n",
    "    with open(file_name, \"rb\") as fh:\n",
    "        (V, E, A, n) = pickle.load(fh)\n",
    "        return V, E, A, n"
   ]
  },
  {
   "cell_type": "code",
   "execution_count": 84,
   "metadata": {},
   "outputs": [],
   "source": [
    "from multiprocessing import Pool\n",
    "import time\n",
    "\n",
    "def generate_graph(A, n, out_filename):\n",
    "    T = 10\n",
    "    I = 100\n",
    "    hist = []\n",
    "    L = set()\n",
    "    E = set()\n",
    "\n",
    "\n",
    "    pool = Pool()\n",
    "    begin = time.time()\n",
    "    for s_res, L_, E_ in pool.map(CLK, [I]*T):\n",
    "        hist.append(s_res)\n",
    "        L = L | L_\n",
    "        E = E | E_\n",
    "\n",
    "    print((time.time() - begin))\n",
    "    save_graph(L, E, A, n, out_filename+\".g\")\n"
   ]
  },
  {
   "cell_type": "code",
   "execution_count": 100,
   "metadata": {},
   "outputs": [],
   "source": [
    "def generate_subproblems_graphs(A, n, out_filename, T, s):\n",
    "    for t in range(T):\n",
    "        A_, n_ = random_subproblem(A, n, n-s)\n",
    "        sub_name = out_filename + \"_\" + str(s) + \"_\" + str(t)\n",
    "        generate_graph(A_, n_, sub_name)\n",
    "        print(sub_name)\n"
   ]
  },
  {
   "cell_type": "code",
   "execution_count": 86,
   "metadata": {},
   "outputs": [],
   "source": [
    "def adjacency_list(V, E):\n",
    "    E_ = {}\n",
    "    for s1, s2 in E:\n",
    "        if s1 in V and s2 in V:\n",
    "            if s1 in E_:\n",
    "                E_[s1].append(s2)\n",
    "            else:\n",
    "                E_[s1] = [s2]\n",
    "    return E_\n",
    "\n",
    "def dfs(v, V, E, g_min, prev):\n",
    "    if tsp_objective_function(v) == g_min:\n",
    "        return True\n",
    "    if v not in E:\n",
    "        return False\n",
    "    for u in E[v]:\n",
    "        if u == prev:\n",
    "            continue\n",
    "        if dfs(u, V, E, g_min, v):\n",
    "            return True\n",
    "    return False\n",
    "\n",
    "def find_pos_glob(V, E, g_min):\n",
    "    E_ = adjacency_list(V, E)\n",
    "    pos_glob = set()\n",
    "    for v in V.keys():\n",
    "        if dfs(v, V, E_, g_min, None):\n",
    "            pos_glob.add(v)\n",
    "    return pos_glob\n",
    "\n",
    "def get_edges_probs(V, E):\n",
    "    E_ = adjacency_list(V, set(E.keys()))\n",
    "    E_probs = {}\n",
    "    for v, l in E_.items():\n",
    "        s = sum([E[(v, neigh)] for neigh in l])\n",
    "        for neigh in l:\n",
    "            E_probs[(v, neigh)] = E[(v, neigh)] / s\n",
    "    return E_probs"
   ]
  },
  {
   "cell_type": "code",
   "execution_count": 87,
   "metadata": {},
   "outputs": [],
   "source": [
    "import igraph\n",
    "\n",
    "def generate_image(g_min, filename):\n",
    "    V, E, A, n = load_graph(filename + \".g\")\n",
    "    E_probs = get_edges_probs(V, E)\n",
    "    E = set(E.keys())\n",
    "    results = sorted([tsp_objective_function(s) for s in V])\n",
    "    threshold = results[len(results) // 10]\n",
    "    V = { s for s in V if tsp_objective_function(s) <= threshold}\n",
    "    V_ = { s : (i, tsp_objective_function(s)) for i, s in enumerate(V)}\n",
    "\n",
    "    Not_Sinks = set()\n",
    "    for s in V:\n",
    "        for (v, u) in E:\n",
    "            if v == s:\n",
    "                Not_Sinks.add(s)\n",
    "                break\n",
    "\n",
    "    V_c = [0 for i in range(len(V_))]\n",
    "    for s, (i, r) in V_.items():\n",
    "        V_c[i] = (s, r)\n",
    "    E_ = [(V_[s1][0], V_[s2][0]) for s1, s2 in E if s1 in V_ and s2 in V_]\n",
    "    E_size = [5 * E_probs[s1, s2] for s1, s2 in E if s1 in V_ and s2 in V_]\n",
    "    pos_glob = find_pos_glob(V_, E, g_min)\n",
    "\n",
    "    g = igraph.Graph(directed=True)\n",
    "    g.add_vertices(len(V_))\n",
    "    g.add_edges(E_)\n",
    "\n",
    "    visual_style = {}\n",
    "    visual_style[\"layout\"] = \\\n",
    "        g.layout_fruchterman_reingold(maxiter=3000)\n",
    "    visual_style[\"vertex_color\"] = ['red' if t[0] in pos_glob else 'blue'\n",
    "                for t in V_c]\n",
    "    visual_style[\"vertex_frame_color\"] = \\\n",
    "        [visual_style[\"vertex_color\"][i] if t[0] in Not_Sinks else 'black'\n",
    "        for i, t in enumerate(V_c)]\n",
    "    visual_style[\"vertex_frame_width\"] = [2 for i in V_c]\n",
    "    visual_style[\"vertex_size\"] = [10 if t[0] in Not_Sinks else 20 for t in V_c]\n",
    "    visual_style[\"edge_width\"] = E_size\n",
    "    visual_style[\"bbox\"] = (0, 0, 1800, 1000)\n",
    "\n",
    "    igraph.summary(g)\n",
    "    out = igraph.plot(g, **visual_style)\n",
    "    out.save(file_name + \".png\")  "
   ]
  },
  {
   "cell_type": "code",
   "execution_count": 102,
   "metadata": {},
   "outputs": [],
   "source": [
    "def subproblems_graphs(tsp_file, out_file):\n",
    "    A, n = parse_tsp(tsp_file + \".tsp\")\n",
    "    generate_subproblems_graphs(A, n, out_file, 1, 1)"
   ]
  },
  {
   "cell_type": "code",
   "execution_count": 103,
   "metadata": {},
   "outputs": [
    {
     "name": "stdout",
     "output_type": "stream",
     "text": [
      "6.296941757202148\n",
      "graphs/bays29_1_0\n"
     ]
    }
   ],
   "source": [
    "subproblems_graphs(\"bays29\", \"graphs/bays29\")\n"
   ]
  },
  {
   "cell_type": "code",
   "execution_count": 104,
   "metadata": {},
   "outputs": [
    {
     "ename": "AttributeError",
     "evalue": "'set' object has no attribute 'keys'",
     "output_type": "error",
     "traceback": [
      "\u001b[0;31m---------------------------------------------------------------------------\u001b[0m",
      "\u001b[0;31mAttributeError\u001b[0m                            Traceback (most recent call last)",
      "\u001b[0;32m<ipython-input-104-9119ae6074d7>\u001b[0m in \u001b[0;36m<module>\u001b[0;34m()\u001b[0m\n\u001b[0;32m----> 1\u001b[0;31m \u001b[0mgenerate_image\u001b[0m\u001b[0;34m(\u001b[0m\u001b[0;36m2020\u001b[0m\u001b[0;34m,\u001b[0m \u001b[0;34m\"graphs/bays29_1_0\"\u001b[0m\u001b[0;34m)\u001b[0m\u001b[0;34m\u001b[0m\u001b[0m\n\u001b[0m",
      "\u001b[0;32m<ipython-input-87-33f4e5380815>\u001b[0m in \u001b[0;36mgenerate_image\u001b[0;34m(g_min, filename)\u001b[0m\n\u001b[1;32m      3\u001b[0m \u001b[0;32mdef\u001b[0m \u001b[0mgenerate_image\u001b[0m\u001b[0;34m(\u001b[0m\u001b[0mg_min\u001b[0m\u001b[0;34m,\u001b[0m \u001b[0mfilename\u001b[0m\u001b[0;34m)\u001b[0m\u001b[0;34m:\u001b[0m\u001b[0;34m\u001b[0m\u001b[0m\n\u001b[1;32m      4\u001b[0m     \u001b[0mV\u001b[0m\u001b[0;34m,\u001b[0m \u001b[0mE\u001b[0m\u001b[0;34m,\u001b[0m \u001b[0mA\u001b[0m\u001b[0;34m,\u001b[0m \u001b[0mn\u001b[0m \u001b[0;34m=\u001b[0m \u001b[0mload_graph\u001b[0m\u001b[0;34m(\u001b[0m\u001b[0mfilename\u001b[0m \u001b[0;34m+\u001b[0m \u001b[0;34m\".g\"\u001b[0m\u001b[0;34m)\u001b[0m\u001b[0;34m\u001b[0m\u001b[0m\n\u001b[0;32m----> 5\u001b[0;31m     \u001b[0mE_probs\u001b[0m \u001b[0;34m=\u001b[0m \u001b[0mget_edges_probs\u001b[0m\u001b[0;34m(\u001b[0m\u001b[0mV\u001b[0m\u001b[0;34m,\u001b[0m \u001b[0mE\u001b[0m\u001b[0;34m)\u001b[0m\u001b[0;34m\u001b[0m\u001b[0m\n\u001b[0m\u001b[1;32m      6\u001b[0m     \u001b[0mE\u001b[0m \u001b[0;34m=\u001b[0m \u001b[0mset\u001b[0m\u001b[0;34m(\u001b[0m\u001b[0mE\u001b[0m\u001b[0;34m.\u001b[0m\u001b[0mkeys\u001b[0m\u001b[0;34m(\u001b[0m\u001b[0;34m)\u001b[0m\u001b[0;34m)\u001b[0m\u001b[0;34m\u001b[0m\u001b[0m\n\u001b[1;32m      7\u001b[0m     \u001b[0mresults\u001b[0m \u001b[0;34m=\u001b[0m \u001b[0msorted\u001b[0m\u001b[0;34m(\u001b[0m\u001b[0;34m[\u001b[0m\u001b[0mtsp_objective_function\u001b[0m\u001b[0;34m(\u001b[0m\u001b[0ms\u001b[0m\u001b[0;34m)\u001b[0m \u001b[0;32mfor\u001b[0m \u001b[0ms\u001b[0m \u001b[0;32min\u001b[0m \u001b[0mV\u001b[0m\u001b[0;34m]\u001b[0m\u001b[0;34m)\u001b[0m\u001b[0;34m\u001b[0m\u001b[0m\n",
      "\u001b[0;32m<ipython-input-86-27a1697b2485>\u001b[0m in \u001b[0;36mget_edges_probs\u001b[0;34m(V, E)\u001b[0m\n\u001b[1;32m     30\u001b[0m \u001b[0;34m\u001b[0m\u001b[0m\n\u001b[1;32m     31\u001b[0m \u001b[0;32mdef\u001b[0m \u001b[0mget_edges_probs\u001b[0m\u001b[0;34m(\u001b[0m\u001b[0mV\u001b[0m\u001b[0;34m,\u001b[0m \u001b[0mE\u001b[0m\u001b[0;34m)\u001b[0m\u001b[0;34m:\u001b[0m\u001b[0;34m\u001b[0m\u001b[0m\n\u001b[0;32m---> 32\u001b[0;31m     \u001b[0mE_\u001b[0m \u001b[0;34m=\u001b[0m \u001b[0madjacency_list\u001b[0m\u001b[0;34m(\u001b[0m\u001b[0mV\u001b[0m\u001b[0;34m,\u001b[0m \u001b[0mset\u001b[0m\u001b[0;34m(\u001b[0m\u001b[0mE\u001b[0m\u001b[0;34m.\u001b[0m\u001b[0mkeys\u001b[0m\u001b[0;34m(\u001b[0m\u001b[0;34m)\u001b[0m\u001b[0;34m)\u001b[0m\u001b[0;34m)\u001b[0m\u001b[0;34m\u001b[0m\u001b[0m\n\u001b[0m\u001b[1;32m     33\u001b[0m     \u001b[0mE_probs\u001b[0m \u001b[0;34m=\u001b[0m \u001b[0;34m{\u001b[0m\u001b[0;34m}\u001b[0m\u001b[0;34m\u001b[0m\u001b[0m\n\u001b[1;32m     34\u001b[0m     \u001b[0;32mfor\u001b[0m \u001b[0mv\u001b[0m\u001b[0;34m,\u001b[0m \u001b[0ml\u001b[0m \u001b[0;32min\u001b[0m \u001b[0mE_\u001b[0m\u001b[0;34m.\u001b[0m\u001b[0mitems\u001b[0m\u001b[0;34m(\u001b[0m\u001b[0;34m)\u001b[0m\u001b[0;34m:\u001b[0m\u001b[0;34m\u001b[0m\u001b[0m\n",
      "\u001b[0;31mAttributeError\u001b[0m: 'set' object has no attribute 'keys'"
     ]
    }
   ],
   "source": [
    "generate_image(2020, \"graphs/bays29_1_0\")"
   ]
  },
  {
   "cell_type": "code",
   "execution_count": null,
   "metadata": {},
   "outputs": [],
   "source": []
  }
 ],
 "metadata": {
  "kernelspec": {
   "display_name": "Python 3",
   "language": "python",
   "name": "python3"
  },
  "language_info": {
   "codemirror_mode": {
    "name": "ipython",
    "version": 3
   },
   "file_extension": ".py",
   "mimetype": "text/x-python",
   "name": "python",
   "nbconvert_exporter": "python",
   "pygments_lexer": "ipython3",
   "version": "3.5.2"
  }
 },
 "nbformat": 4,
 "nbformat_minor": 2
}
